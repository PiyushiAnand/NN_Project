{
 "cells": [
  {
   "cell_type": "markdown",
   "metadata": {
    "id": "RksWtNuHg9Rb"
   },
   "source": [
    "# Assignment\n",
    "*  In this assignment, we will build a classifier for MNIST from scratch using just [NumPy](https://numpy.org/)\n",
    "\n",
    "*  [MNIST](http://yann.lecun.com/exdb/mnist/) dataset contains images of handwritten digits of size 28x28\n",
    "\n",
    "*  The dataset that you are expected to use for training is already uploaded along\n",
    "\n",
    "*   Our model will have 1 hidden layer, like the one below (not our recommendation to use 256 in the hidden layer though, try various values out)\n",
    "\n",
    "**Feel free to redefine any function signatures below, just make sure the final cell remains the same.**\n",
    "\n",
    "<center>\n",
    "<img src=\"https://user-images.githubusercontent.com/81357954/166119893-4ca347b8-b1a4-40b8-9e0a-2e92b5f164ae.png\">\n",
    "</center>"
   ]
  },
  {
   "cell_type": "markdown",
   "metadata": {
    "id": "UyOAG55siwdI"
   },
   "source": [
    "## Import libraries here\n",
    "NumPy, Matplotlib, ...\n",
    "\n",
    "Also remember to initialize the seed for reproducibility of results"
   ]
  },
  {
   "cell_type": "code",
   "execution_count": 1,
   "metadata": {
    "id": "7iVUsRLxjAb9"
   },
   "outputs": [],
   "source": [
    "import numpy as np \n",
    "import matplotlib.pyplot as plt\n",
    "import pickle\n",
    "from sklearn.model_selection import train_test_split\n",
    "from sklearn.preprocessing import normalize\n",
    "np.random.seed(23)"
   ]
  },
  {
   "cell_type": "markdown",
   "metadata": {
    "id": "HaLDC4wN0eQs"
   },
   "source": [
    "# Load *Dataset*\n",
    "Load data from the given pickle file"
   ]
  },
  {
   "cell_type": "code",
   "execution_count": 2,
   "metadata": {
    "id": "6qOjNSmx0iUn"
   },
   "outputs": [],
   "source": [
    "\n",
    "data_file='MNIST_data.pkl'\n",
    "# load the data set\n",
    "with open(data_file,'rb') as infile:\n",
    "    train_dataset = pickle.load(infile)\n",
    "X = train_dataset['X']\n",
    "y = train_dataset['y']\n",
    "\n",
    "# normalize\n",
    "StandDev=np.std(X,axis=0,keepdims=True)\n",
    "Mean=np.mean(X,axis=0,keepdims=True)\n",
    "X_normalised=(X-Mean)/(StandDev+1e-7)\n",
    "testsize=0.5\n",
    "X_train,X_test,y_train,y_test=train_test_split(X,y)\n",
    "\n",
    "# Split into X_train, y_train, X_test, y_test\n",
    "# you can use stratified splitting from sklearn library\n"
   ]
  },
  {
   "cell_type": "code",
   "execution_count": 3,
   "metadata": {
    "id": "id77Oqc90kTf"
   },
   "outputs": [
    {
     "data": {
      "image/png": "[encoded data removed]",
      "text/plain": [
       "<Figure size 640x480 with 4 Axes>"
      ]
     },
     "metadata": {},
     "output_type": "display_data"
    },
    {
     "data": {
      "image/png": "[encoded data removed]",
      "text/plain": [
       "<Figure size 640x480 with 4 Axes>"
      ]
     },
     "metadata": {},
     "output_type": "display_data"
    },
    {
     "data": {
      "image/png": "[encoded data removed]",
      "text/plain": [
       "<Figure size 640x480 with 4 Axes>"
      ]
     },
     "metadata": {},
     "output_type": "display_data"
    },
    {
     "data": {
      "image/png": "[encoded data removed]",
      "text/plain": [
       "<Figure size 640x480 with 4 Axes>"
      ]
     },
     "metadata": {},
     "output_type": "display_data"
    }
   ],
   "source": [
    "\n",
    "# display a 4x4 grid, \n",
    "# choose 16 images randomly, display the images as well as corresponding label\n",
    "\n",
    "for i in range(0,4):\n",
    "    num_examples = 4\n",
    "    seed = 1471979+i*2\n",
    "    rng = np.random.default_rng(seed)\n",
    "\n",
    "    fig, axes = plt.subplots(1, num_examples)\n",
    "    for sample, ax in zip(rng.choice(X_train, size=num_examples, replace=False), axes):\n",
    "        ax.imshow(sample.reshape(28, 28), cmap=\"gray\")"
   ]
  },
  {
   "cell_type": "markdown",
   "metadata": {
    "id": "VFYnsPVLmsiW"
   },
   "source": [
    "## Building up parts of our classifier"
   ]
  },
  {
   "cell_type": "markdown",
   "metadata": {
    "id": "wAsGtgxUpGh2"
   },
   "source": [
    "**Activation functions**"
   ]
  },
  {
   "cell_type": "code",
   "execution_count": 4,
   "metadata": {
    "id": "6Di5Ck47msCQ"
   },
   "outputs": [],
   "source": [
    "def relu(z):\n",
    "    \"\"\"\n",
    "    Arguments:\n",
    "    z -- A scalar or numpy array.\n",
    "    Return:\n",
    "    relu func applied to each element of z\n",
    "    \"\"\"\n",
    "    return np.maximum(0,z)\n",
    "    pass\n",
    "\n",
    "def softmax(x):\n",
    "    \"\"\"\n",
    "    returns computed probabilitites for each element in batch separately\n",
    "    input: (N, 10)\n",
    "    output: (N, 10)\n",
    "    \"\"\"\n",
    "    \n",
    "    x = x - np.max(x,axis=1,keepdims=True)\n",
    "    exp_x = np.exp(x)\n",
    "    return exp_x / (np.sum(exp_x, axis=1, keepdims=True)+1e-7)\n",
    "    pass"
   ]
  },
  {
   "cell_type": "markdown",
   "metadata": {
    "id": "G-q5HJHIocdn"
   },
   "source": [
    "**Notes about the Neural Network** \n",
    "*   Input size is (784,) because 28x28 = 784\n",
    "*   Output size will be 10, each element represeting probability of the image representing that digit\n",
    "*   Size of the hidden layer is a hyperparameter\n",
    "\n"
   ]
  },
  {
   "cell_type": "markdown",
   "metadata": {
    "id": "azTAuS5spFcz"
   },
   "source": [
    "**Initialize the layers weights**\n",
    "\n",
    "Generally, we follow the convention that weights are drawn from a standard normal distribution, while the bias vectors are initialized to zero. But you can try everything out :)"
   ]
  },
  {
   "cell_type": "code",
   "execution_count": 5,
   "metadata": {
    "id": "38E3_hVPocMm"
   },
   "outputs": [],
   "source": [
    "def init_params():\n",
    "    \"\"\"\n",
    "    ideally it should take the size of all the layers and \n",
    "    should return the initialized weights.\n",
    "    \"\"\"\n",
    "    input_size=784\n",
    "    hidden_size=256\n",
    "    output_size=10\n",
    "    #learning_rate=1e-7\n",
    "    w1=np.random.randn(input_size,hidden_size)\n",
    "    w2=np.random.randn(hidden_size,output_size)\n",
    "    bias1=np.zeros((1,hidden_size))\n",
    "    bias2=np.zeros((1,output_size))\n",
    "    return w1,w2,bias1,bias2,input_size,hidden_size,output_size\n",
    "    pass"
   ]
  },
  {
   "cell_type": "markdown",
   "metadata": {
    "id": "UlX8zy-7pv2n"
   },
   "source": [
    "**Forward Propagation**"
   ]
  },
  {
   "cell_type": "code",
   "execution_count": 6,
   "metadata": {
    "id": "TJ8lgrqjjASz"
   },
   "outputs": [],
   "source": [
    "def forward_propg(X, w1,w2,bias1,bias2):\n",
    "    \"\"\"\n",
    "    X: input data\n",
    "    returns: logits, output of each layer z1,z2,a1,a2\n",
    "    \"\"\"\n",
    "\n",
    "    z1=np.dot(X,w1)+bias1\n",
    "    a1=relu(z1)\n",
    "    z2=np.dot(a1,w2)+bias2\n",
    "    a2=softmax(z2)\n",
    "    return z1,z2,a1,a2\n",
    "def relu_derivative(x):\n",
    "    x[x<=0]=0\n",
    "    x[x>0]=1\n",
    "    return x "
   ]
  },
  {
   "cell_type": "markdown",
   "metadata": {
    "id": "asZmbRVvuy5x"
   },
   "source": [
    "**Backward Propagation**\n",
    "\n",
    "\n",
    "You may use stochastic gradient descent or batch gradient descent here. Feel free to use any loss function."
   ]
  },
  {
   "cell_type": "code",
   "execution_count": 7,
   "metadata": {
    "id": "kAmrTAlimjUN"
   },
   "outputs": [],
   "source": [
    "def backward_propg(X, y,w1,w2,bias1,bias2,learning_rate):\n",
    "    \"\"\"\n",
    "    should update the weights and return updated weights\n",
    "    \n",
    "    \"\"\"\n",
    "    \n",
    "    z1,z2,a1,a2=forward_propg(X,w1,w2,bias1,bias2)\n",
    "    a2_err=y-a2\n",
    "    grad_w2=np.dot(a1.T,a2_err)/a2_err.shape[0]\n",
    "    grad_bias2=np.sum(a2_err,axis=0)/a2_err.shape[0]\n",
    "    grad_w1=np.dot(X.T,np.dot(a2_err,w2.T)*relu_derivative(z1))/a2_err.shape[0]\n",
    "    grad_bias1=np.sum(np.dot(a2_err,w2.T)*relu_derivative(z1),axis=0)/a2_err.shape[0]\n",
    "    w1 -= learning_rate * grad_w1\n",
    "    w2 -= learning_rate * grad_w2\n",
    "    bias1 += learning_rate * grad_bias1\n",
    "    bias2 += learning_rate * grad_bias2\n",
    "    return w1,bias1,w2,bias2\n",
    "    pass"
   ]
  },
  {
   "cell_type": "code",
   "execution_count": 8,
   "metadata": {
    "id": "cVDz0IGnvzpe"
   },
   "outputs": [],
   "source": [
    "\n",
    "    \n",
    "def cost_func(a2,y):\n",
    "    \"\"\"\n",
    "    calculate loss to check whether it is decreasing at each epoch or not\n",
    "    one can return this in backward propagation as well\n",
    "    \"\"\"\n",
    "    a2_err=y-a2\n",
    "    eps=1e-12\n",
    "    log_like=-np.log(np.maximum(eps,a2_err[range(len(a2_err)),y.argmax(axis=1)]))\n",
    "    loss=np.sum(log_like)/len(a2_err)\n",
    "    return loss\n",
    "    pass"
   ]
  },
  {
   "cell_type": "markdown",
   "metadata": {
    "id": "GUlhpcs9ylOX"
   },
   "source": [
    "\n",
    "## Integrate everything"
   ]
  },
  {
   "cell_type": "code",
   "execution_count": 9,
   "metadata": {
    "id": "SDGdT7PVmjRU"
   },
   "outputs": [],
   "source": [
    "def train(X, y, hidden_nodes, epochs,lr):\n",
    "    \"\"\"\n",
    "    hidden_nodes: no. of nodes in hidden layer\n",
    "\n",
    "    should return the updated optimize weights.\n",
    "    \"\"\"\n",
    "    # initialize weights.\n",
    "    \n",
    "    w1,w2,bias1,bias2,input_size,hidden_size,output_size=init_params()\n",
    "   \n",
    "    relu_derivative \n",
    "    for i in range(epochs):\n",
    "        # forward propagation\n",
    "        z1,z2,a1,a2=forward_propg(X,w1,w2,bias1,bias2)\n",
    "        a2_err=a2-y\n",
    "        loss=cost_func(a2_err,y_train)\n",
    "        #print cost at every 100 or so iterations\n",
    "        upd_w1,upd_bias1,upd_w2,upd_bias2=backward_propg(X, y,w1,w2,bias1,bias2,lr)\n",
    "        if i%100==0:\n",
    "             print(\"Cost at 100th iteration %d:%f\" % (i,loss))\n",
    "        \n",
    "        # backward propagation\n",
    "    return upd_w1,upd_w2,upd_bias1,upd_bias2\n",
    "    pass"
   ]
  },
  {
   "cell_type": "code",
   "execution_count": 10,
   "metadata": {
    "id": "9XBinWpPmjOS"
   },
   "outputs": [],
   "source": [
    "def predict(X, upd_w1,upd_w2):\n",
    "    \"\"\"\n",
    "    returns the prediction in [0,9] for each element in X\n",
    "    \"\"\"\n",
    "    z1_test,z2_test,a1_test,a2_test=forward_propg(X_test,upd_w1,upd_w2,upd_bias1,upd_bias2)\n",
    "    predictions=np.argmax(a2_test,axis=1)\n",
    "    return predictions\n",
    "\n",
    "    \n",
    "    pass"
   ]
  },
  {
   "cell_type": "code",
   "execution_count": 11,
   "metadata": {
    "id": "CtKSZWw71wc4"
   },
   "outputs": [],
   "source": [
    "\n",
    "def accuracy(pred, y):\n",
    "    \"\"\"\n",
    "    prints % accuracy\n",
    "    \"\"\"\n",
    "    acc=np.mean(pred==y)*100\n",
    "    print(\"% Accuracy:\",acc,\"%\")\n",
    "    return acc\n",
    "\n"
   ]
  },
  {
   "cell_type": "markdown",
   "metadata": {
    "id": "fGVOZ8yg0VrV"
   },
   "source": [
    "### Save as pickle"
   ]
  },
  {
   "cell_type": "code",
   "execution_count": 12,
   "metadata": {
    "colab": {
     "base_uri": "https://localhost:8080/",
     "height": 17
    },
    "id": "_lvDVwmxmjKX",
    "outputId": "02467c3f-b20f-44b7-8e3d-43e308028d17"
   },
   "outputs": [
    {
     "name": "stdout",
     "output_type": "stream",
     "text": [
      "Cost at 100th iteration 0:0.849944\n",
      "Cost at 100th iteration 100:0.848700\n",
      "Cost at 100th iteration 200:0.847606\n",
      "Cost at 100th iteration 300:0.846696\n",
      "Cost at 100th iteration 400:0.846218\n",
      "Cost at 100th iteration 500:0.845962\n",
      "Cost at 100th iteration 600:0.845922\n",
      "Cost at 100th iteration 700:0.845914\n",
      "Cost at 100th iteration 800:0.845914\n",
      "Cost at 100th iteration 900:0.845914\n",
      "% Accuracy: 10.413333333333332 %\n"
     ]
    }
   ],
   "source": [
    "import pickle\n",
    "import random\n",
    "\n",
    "roll_num = \"22B1010\" # enter ldap\n",
    "hidden_dim = 256 # replace with your own hidden dimension\n",
    "upd_w1,upd_w2,upd_bias1,upd_bias2=train(X_train, y_train, hidden_nodes=256, epochs=1000,lr=1e-7)\n",
    "pred=predict(X_test,upd_w1,upd_w2)\n",
    "accuracy(pred, y_test)\n",
    "model_dict = {\n",
    "    'z': hidden_dim, # hidden dimension of your model\n",
    "    'layer_0_wt': upd_w1, # layer 0 weight (784, z)\n",
    "    'layer_0_bias': upd_bias1.T, # layer 0 bias (z, 1)\n",
    "    'layer_1_wt': upd_w2, # layer 1 weight (z, 10)\n",
    "    'layer_1_bias': upd_bias2.T # layer 1 bias (10, 1)\n",
    "}\n",
    "\n",
    "assert model_dict['layer_0_wt'].shape == (784, hidden_dim)\n",
    "assert model_dict['layer_0_bias'].shape == (hidden_dim, 1)\n",
    "assert model_dict['layer_1_wt'].shape == (hidden_dim, 10)\n",
    "assert model_dict['layer_1_bias'].shape == (10, 1)\n",
    "\n",
    "with open(f'model_{roll_num}.pkl', 'wb') as f:\n",
    "    pickle.dump(model_dict, f)"
   ]
  },
  {
   "cell_type": "code",
   "execution_count": null,
   "metadata": {},
   "outputs": [],
   "source": []
  },
  {
   "cell_type": "code",
   "execution_count": null,
   "metadata": {},
   "outputs": [],
   "source": []
  },
  {
   "cell_type": "code",
   "execution_count": null,
   "metadata": {},
   "outputs": [],
   "source": []
  },
  {
   "cell_type": "code",
   "execution_count": null,
   "metadata": {},
   "outputs": [],
   "source": []
  },
  {
   "cell_type": "code",
   "execution_count": null,
   "metadata": {},
   "outputs": [],
   "source": []
  }
 ],
 "metadata": {
  "colab": {
   "collapsed_sections": [],
   "name": "Assignment1_Problem_Statement.ipynb",
   "provenance": []
  },
  "kernelspec": {
   "display_name": "Python 3 (ipykernel)",
   "language": "python",
   "name": "python3"
  },
  "language_info": {
   "codemirror_mode": {
    "name": "ipython",
    "version": 3
   },
   "file_extension": ".py",
   "mimetype": "text/x-python",
   "name": "python",
   "nbconvert_exporter": "python",
   "pygments_lexer": "ipython3",
   "version": "3.9.13"
  },
  "vscode": {
   "interpreter": {
    "hash": "e7370f93d1d0cde622a1f8e1c04877d8463912d04d973331ad4851f04de6915a"
   }
  }
 },
 "nbformat": 4,
 "nbformat_minor": 1
}
